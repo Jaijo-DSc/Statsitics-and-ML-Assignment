{
 "cells": [
  {
   "cell_type": "markdown",
   "metadata": {
    "colab_type": "text",
    "id": "YzSgy3Eu3aeg"
   },
   "source": [
    "## Assignment # 2\n",
    "\n",
    "\n",
    "You guys can submit either handwritten or typed answers. Please do the maths. Don't just write the answers only.\n",
    "\n",
    "Share your answers to amritansh.48@gmail.com"
   ]
  },
  {
   "cell_type": "markdown",
   "metadata": {
    "colab_type": "text",
    "id": "2MUluzo53hJy"
   },
   "source": [
    "# **Q1.** A bag contains 2 red, 3 green and 2 blue balls. Two balls are drawn at random. What is the probability that none of the balls drawn is blue?"
   ]
  },
  {
   "cell_type": "markdown",
   "metadata": {},
   "source": [
    "-:total balls = 7\n",
    "\n",
    "-:2 are blue\n",
    "\n",
    "-:and we want to find, What is the probability that none of the balls drawn is blue?\n",
    "\n",
    "-:therefore removing blue balls we have 2 red and 3 green = 5 (7-2= 5 balls remaining)\n",
    "\n",
    "\n",
    "-:probability that none of the balls drawn is blue  = 5C2 / 7C2\n",
    "\n",
    "                                                    = (5*4/ 1*2) / (7*6/1*2)\n",
    "                                                    \n",
    "                                                    = 10/21\n",
    "                                                    \n",
    "                                                    = 0.476\n",
    "                                                    \n",
    "                                                    = 47.6%\n",
    "\n"
   ]
  },
  {
   "cell_type": "markdown",
   "metadata": {
    "colab_type": "text",
    "id": "8jWhg0kD39wR"
   },
   "source": [
    "# **Q2.** \tThree unbiased coins are tossed. What is the probability of getting at most two heads?"
   ]
  },
  {
   "cell_type": "markdown",
   "metadata": {},
   "source": [
    "Here possibilities(p) = {TTT, TTH, THT, HTT, THH, HTH, HHT, HHH}\n",
    "\n",
    "Let E = event of getting at most two heads.\n",
    "\n",
    "Then E = {TTT, TTH, THT, HTT, THH, HTH, HHT}.\n",
    "\n",
    "P(E) =n(E)/n(p)=7/8.\n",
    "P(E)= 87.5%"
   ]
  },
  {
   "cell_type": "markdown",
   "metadata": {
    "colab_type": "text",
    "id": "BsynqIE77Nie"
   },
   "source": [
    "# **Q3.** If two people are drawing out cards randomly from a pack of cards, Whats the probability that person A will draw 2 cards from red suites in sucession. The person A and B draw out cards one by one."
   ]
  },
  {
   "cell_type": "markdown",
   "metadata": {},
   "source": [
    "assume A picks card first\n",
    "\n",
    "then the combinations for A will draw 2 red cards ARE\n",
    "\n",
    "A        B          A\n",
    "\n",
    "Red     Red        Red\n",
    "\n",
    "        OR\n",
    "        \n",
    "Red     Black        Red\n",
    "\n",
    "\n",
    "Therefore:\n",
    "\n",
    "= (26/52   *    25/51    *     24/50)\n",
    "\n",
    "       +\n",
    "                 \n",
    "  (26/52   *    26/51    *     25/50)\n",
    "  \n",
    "=   0.117   +  0.127\n",
    "\n",
    "= 0.244\n",
    "\n",
    "= 24.4%\n",
    "\n",
    "\n",
    "\n",
    "\n",
    "\n",
    "\n",
    "\n",
    "# assume B picks card first\n",
    "\n",
    "\n",
    "then the combinations for A will draw 2 red cards ARE\n",
    "\n",
    " B        A        B          A\n",
    "\n",
    "Red       Red      Red        Red\n",
    "   \n",
    "          OR\n",
    "        \n",
    "Black     Red      Red        Red\n",
    "\n",
    "          OR\n",
    "        \n",
    "Black     Red      Black      Red\n",
    "\n",
    "          OR\n",
    "        \n",
    "Red       Red      Black       Red\n",
    "\n",
    "\n",
    "\n",
    "\n",
    "Therefore:\n",
    "\n",
    "= (26/52   *    25/51    *     24/50     *     23/49)\n",
    "\n",
    "       +\n",
    "                 \n",
    "  (26/52   *    26/51    *     25/50     *     24/49)\n",
    "  \n",
    "        +\n",
    "  (26/52   *    26/51    *     25/50     *     25/49)\n",
    "\n",
    "       +\n",
    "                 \n",
    "  (26/52   *    25/51    *     26/50     *     24/49)\n",
    "  \n",
    "  \n",
    "=   0.055   +  0.062   +   0.065   +  0.062\n",
    "\n",
    "= 0.244\n",
    "\n",
    "= 24.4%\n"
   ]
  },
  {
   "cell_type": "markdown",
   "metadata": {
    "colab_type": "text",
    "id": "_wLMRyiZ8NKj"
   },
   "source": [
    "# **Q4.** Dennis is playing a game of rock-paper-scissors with Phil. The loser of the game will pay the winner $100.\n",
    "\n",
    "#In the game of rock-paper-scissors, each player chooses either rock, paper, or scissors simultaneously. A winner is decided by the following rules: rock beats scissors, scissors beats paper, and paper beats rock. If both players make the same choice, then the game is a tie.\n",
    "Dennis is trying to decide whether to play rock or paper. Based on previous games, he knows that Phil will make his choice according to the probabilities in the table below:\n",
    "\n",
    "\n",
    "---\n",
    "\n",
    "#Phil's Choice        :                                                                                Probability\n",
    "\n",
    "---\n",
    "#Rock  :  0.5\n",
    "\n",
    "---\n",
    "\n",
    "#Paper :  0.2\n",
    "\n",
    "\n",
    "---\n",
    "#Scissor : 0.3\n",
    "\n",
    "\n",
    "\n",
    "\n",
    "\n",
    "\n",
    "---\n",
    "\n",
    "\n",
    "\n",
    "\n"
   ]
  },
  {
   "cell_type": "code",
   "execution_count": 1,
   "metadata": {},
   "outputs": [],
   "source": [
    "#a)\tWhat are Dennis's expected winnings if he chooses rock? Round your answer to the nearest dollar.\n",
    "\n",
    "#b)\tWhat are Dennis's expected winnings if he chooses paper? Round your answer to the nearest dollar.\n",
    "\n",
    "#c)\tIf Dennis wants the best payoff in the long run, he should choose: Rock, Paper, Scissor?\n"
   ]
  },
  {
   "cell_type": "markdown",
   "metadata": {},
   "source": [
    "ROCK VS ROCK = 0$\n",
    "\n",
    "PAPER VS ROCK = -100$\n",
    "\n",
    "SCISSOR VS ROCK = 100\n",
    "\n",
    "a) What are Dennis's expected winnings if he chooses rock? Round your answer to the nearest dollar.\n",
    "\n",
    "\n",
    "P(Dennis[ROCK]) = p(phil-Rock)*(Rock vs Rock ) + p(phil-Paper)*(Paper vs Rock ) + p(phil-Scissor)*(Scissor vs Rock ) \n",
    "               \n",
    "                      = 0.5*(0 ) + 0.2*(-100 ) + 0.3*(100 )\n",
    "                      \n",
    "                      = 10$\n",
    "b)\tWhat are Dennis's expected winnings if he chooses paper? Round your answer to the nearest dollar.\n",
    "\n",
    "\n",
    "P(Dennis[Paper]) = p(phil-Rock)*(Rock vs Paper ) + p(phil-Paper)*(Paper vs Paper ) + p(phil-Scissor)*(Scissor vs Paper ) \n",
    "               \n",
    "                      = 0.5*(100 ) + 0.2*(0 ) + 0.3*(-100 )\n",
    "                      \n",
    "                      = 20$\n",
    "\n",
    "c)\tIf Dennis wants the best payoff in the long run, he should choose: Rock, Paper, Scissor?\n",
    "\n",
    "P(Dennis[Paper])  - P(Dennis[ROCK])= 20 -10  = 10 \n",
    "\n",
    "positive vale with paper so if Dennis wants the best payoff in the long run, he should choose:Paper.\n"
   ]
  },
  {
   "cell_type": "markdown",
   "metadata": {
    "colab_type": "text",
    "id": "ToIViPgN4F6w"
   },
   "source": [
    "# **Q5**. Assuming a normal distribution of a people's height in cm: Given mean = 161.2 cm and variance = 144.8 cm^2. What is the probability that a random person selected will have height greater than 179 cm. You can refer this graph for calulations.\n",
    "\n",
    "![normal_curve](https://mathbitsnotebook.com/Algebra2/Statistics/normalstandard.jpg)"
   ]
  },
  {
   "cell_type": "code",
   "execution_count": 2,
   "metadata": {},
   "outputs": [
    {
     "name": "stdout",
     "output_type": "stream",
     "text": [
      "173.23328716519305\n",
      "179.24993074778956\n",
      "the probability that a random person selected will have height greater than 179 cm : 6.7 %\n"
     ]
    }
   ],
   "source": [
    "import numpy as np\n",
    "mean = 161.2\n",
    "var = 144.8\n",
    "std= np.sqrt(var)\n",
    "\n",
    "Q= mean + std\n",
    "print(Q)\n",
    "z =  mean  + (1.5*std)\n",
    "print(z)\n",
    "\n",
    "\n",
    "h= 4.4+1.7+0.5+0.1\n",
    "print(\"the probability that a random person selected will have height greater than 179 cm :\",h,\"%\")\n"
   ]
  },
  {
   "cell_type": "markdown",
   "metadata": {
    "colab_type": "text",
    "id": "INmG_zvjXR3B"
   },
   "source": [
    "# **Q6.** Find Mode in all of the following data points (use python functions to calculate):\n",
    "\n",
    "  a) 12, 8, 4, 8, 1, 8, 9, 11, 9, 10, 12, 8\n",
    "  \n",
    "  b) 15, 22, 17, 19, 22, 17, 29, 24, 17, 15\n",
    "  \n",
    "  c) 0, 3, 2, 1, 3, 5, 4, 3, 42, 1, 2, 0\n",
    "  \n",
    "  d) 1, 7, 2, 4, 5, 9, 8, 3"
   ]
  },
  {
   "cell_type": "code",
   "execution_count": 3,
   "metadata": {},
   "outputs": [
    {
     "name": "stdout",
     "output_type": "stream",
     "text": [
      "a: 8\n",
      "b: 17\n",
      "c: 8\n",
      "d: 17\n"
     ]
    }
   ],
   "source": [
    "import statistics\n",
    "\n",
    "listA = [12, 8, 4, 8, 1, 8, 9, 11, 9, 10, 12, 8]\n",
    "print(\"a:\", statistics.mode(listA))\n",
    "\n",
    "listB = [15, 22, 17, 19, 22, 17, 29, 24, 17, 15]\n",
    "print(\"b:\", statistics.mode(listB))\n",
    "\n",
    "listC = [12, 8, 4, 8, 1, 8, 9, 11, 9, 10, 12, 8]\n",
    "print(\"c:\", statistics.mode(listC))\n",
    "\n",
    "listD = [15, 22, 17, 19, 22, 17, 29, 24, 17, 15]\n",
    "print(\"d:\", statistics.mode(listD))"
   ]
  },
  {
   "cell_type": "markdown",
   "metadata": {
    "colab_type": "text",
    "id": "1RbusyJ1XoWj"
   },
   "source": [
    "# **Q7**. The runs scored in a cricket match by 11 players is as follows:\n",
    "\n",
    "7, 16, 121, 51, 101, 81, 1, 16, 9, 11, 16\n",
    "\n",
    "Find the mean, mode, median of this data."
   ]
  },
  {
   "cell_type": "code",
   "execution_count": 4,
   "metadata": {},
   "outputs": [
    {
     "name": "stdout",
     "output_type": "stream",
     "text": [
      "mean: 39.09090909090909\n",
      "median: 16.0\n",
      "mode: 16\n"
     ]
    }
   ],
   "source": [
    "listA = [7, 16, 121, 51, 101, 81, 1, 16, 9, 11, 16]\n",
    "print(\"mean:\", np.mean(listA))\n",
    "print(\"median:\", np.median(listA))\n",
    "print(\"mode:\", statistics.mode(listA))\n",
    "\n"
   ]
  },
  {
   "cell_type": "markdown",
   "metadata": {
    "colab_type": "text",
    "id": "X6D8ooEuXv7a"
   },
   "source": [
    "# **Q8**.  Find the median and mean of the following data.\n",
    "\n",
    "(a) 27, 39, 49, 20, 21, 28, 38\n",
    "\n",
    "(b) 10, 19, 54, 80, 15, 16\n",
    "\n",
    "(c) 47, 41, 52, 43, 56, 35, 49, 55, 42\n",
    "\n",
    "(d) 12, 17, 3, 14, 5, 8, 7, 15"
   ]
  },
  {
   "cell_type": "code",
   "execution_count": 5,
   "metadata": {},
   "outputs": [
    {
     "name": "stdout",
     "output_type": "stream",
     "text": [
      "A: mean: 31.714285714285715\n",
      "A: median: 28.0\n",
      "B: mean: 32.333333333333336\n",
      "B: median: 17.5\n",
      "C: mean: 46.666666666666664\n",
      "C: median: 47.0\n",
      "D: mean: 10.125\n",
      "D: median: 10.0\n"
     ]
    }
   ],
   "source": [
    "listA = [ 27, 39, 49, 20, 21, 28, 38]\n",
    "print(\"A: mean:\", np.mean(listA))\n",
    "print(\"A: median:\", np.median(listA))\n",
    "\n",
    "listB = [  10, 19, 54, 80, 15, 16]\n",
    "print(\"B: mean:\", np.mean(listB))\n",
    "print(\"B: median:\", np.median(listB))\n",
    "\n",
    "listC = [ 47, 41, 52, 43, 56, 35, 49, 55, 42]\n",
    "print(\"C: mean:\", np.mean(listC))\n",
    "print(\"C: median:\", np.median(listC))\n",
    "\n",
    "listD = [ 12, 17, 3, 14, 5, 8, 7, 15]\n",
    "print(\"D: mean:\", np.mean(listD))\n",
    "print(\"D: median:\", np.median(listD))\n"
   ]
  }
 ],
 "metadata": {
  "colab": {
   "collapsed_sections": [],
   "name": "Stats Assignment # 2",
   "provenance": []
  },
  "kernelspec": {
   "display_name": "Python 3",
   "language": "python",
   "name": "python3"
  },
  "language_info": {
   "codemirror_mode": {
    "name": "ipython",
    "version": 3
   },
   "file_extension": ".py",
   "mimetype": "text/x-python",
   "name": "python",
   "nbconvert_exporter": "python",
   "pygments_lexer": "ipython3",
   "version": "3.7.3"
  }
 },
 "nbformat": 4,
 "nbformat_minor": 1
}
