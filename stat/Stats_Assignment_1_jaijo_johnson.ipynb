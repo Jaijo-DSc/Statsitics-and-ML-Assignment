{
 "cells": [
  {
   "cell_type": "markdown",
   "metadata": {
    "colab_type": "text",
    "id": "wSgviyE2o9wF"
   },
   "source": [
    "## Assignment # 1\n",
    "\n",
    "Hey guys. This is your first assignment for Linear Algebra. Its just to check how much you guys are good with programming to achieve simple matrix operations. Feel free to code in Python. Don't use inbuilt functions. Create your own.\n",
    "\n",
    "\n",
    "\n",
    "Mail your files to amritansh.48@gmail.com\n",
    "\n"
   ]
  },
  {
   "cell_type": "code",
   "execution_count": 1,
   "metadata": {
    "colab": {},
    "colab_type": "code",
    "id": "NOoBfBX1o46N"
   },
   "outputs": [],
   "source": [
    "import numpy as np"
   ]
  },
  {
   "cell_type": "markdown",
   "metadata": {
    "colab_type": "text",
    "id": "4hFJi6tUpnPz"
   },
   "source": [
    "**Q1**. Intialize 3 different matrices of following dimensions : (5 x 5 ), (7 x 8 x 9), (10 x 13 x 5 x 7). Use random integers as inputs. Print them out."
   ]
  },
  {
   "cell_type": "code",
   "execution_count": 2,
   "metadata": {
    "colab": {},
    "colab_type": "code",
    "id": "Q68Gkj-vqDJH"
   },
   "outputs": [
    {
     "name": "stdout",
     "output_type": "stream",
     "text": [
      "a\n",
      "[[ 1 13  8 15 17]\n",
      " [23  5 18 19 13]\n",
      " [23  2 10 17  8]\n",
      " [16 18  7  8  5]\n",
      " [ 2 20 12 17 15]]\n",
      "\n",
      "b\n",
      "[[[47 58 16 32 10 33  4 60 59]\n",
      "  [28 51  1 11 54 41 27 50 50]\n",
      "  [57 43 70 47 32 17 30 36  9]\n",
      "  [40 50 54 66 56 48 13 67 34]\n",
      "  [68 49 37 50 69 71 46 62 18]\n",
      "  [35 56 35 51 62 13 45 68 48]\n",
      "  [ 8 41 32 40 22 30 61 19 56]\n",
      "  [65 23 52 67  3  1 29 44 15]]\n",
      "\n",
      " [[44  3 38 28 55  8 67 32 37]\n",
      "  [39 38 69 53 16 56 65 17  4]\n",
      "  [32 54 32 32 61 61 54 52 62]\n",
      "  [34 62 10 14 68 29 21 23 55]\n",
      "  [19 44 11 46  8 39 34 23 26]\n",
      "  [67 33 55 25  4 46  5 15 21]\n",
      "  [21 57  1 56  1 50 31 11 51]\n",
      "  [12 42 15 65 42 31  7 35  8]]\n",
      "\n",
      " [[65 31 42 70 12  6 54 16 58]\n",
      "  [47 60 11 12 60 60 30 38 38]\n",
      "  [ 1 71 59 62 60 27 32 31 30]\n",
      "  [46 52  6 41 24 45 66 68 70]\n",
      "  [52 21 14  1  2 11  2  1  8]\n",
      "  [16 46 50 44 26  3 24 41 48]\n",
      "  [42  5 41 66 40 62 41 26 13]\n",
      "  [60 64 58 51 58 21 14 51 11]]\n",
      "\n",
      " [[18 10 39  1 66 56  5  6  4]\n",
      "  [71 51 71 62 59 46 59 19 26]\n",
      "  [10 55 60  6 63 21 40 42 59]\n",
      "  [26 16 26 67 12 58 68 27 60]\n",
      "  [24 63 61 50 17  9 24 67 46]\n",
      "  [59 66 27  2 39 13 43 33 16]\n",
      "  [ 3  6 46  5 66 41 24 62  9]\n",
      "  [37  1  5  2 32 55 70 36 33]]\n",
      "\n",
      " [[ 2 56 43 30 59  3  1 43 53]\n",
      "  [11 61 13 60 34 64 10 59 21]\n",
      "  [ 4 23 33 70 26 45 27 63 11]\n",
      "  [67 43 16 43 15 39 36 20 18]\n",
      "  [17 37 39 34 20 21 17  3 56]\n",
      "  [ 2 15 30  5 30 50 33 36 17]\n",
      "  [48 36 70 47 16 46 15  1 71]\n",
      "  [64 41 64 13 54 41 52  5 24]]\n",
      "\n",
      " [[ 4 58 51 27 27 47 53 28  3]\n",
      "  [21 47 30 29 68 63 26 67 60]\n",
      "  [41 51 26 30 12 66 26 29 17]\n",
      "  [24 70 20 37 35  4 28 67 13]\n",
      "  [42 65  9 50 68 37 21 31 12]\n",
      "  [58 24  2 22 28 34 29 67 35]\n",
      "  [13  3 22 54 42  4 43 58 37]\n",
      "  [69 38 46 52 10 57 41 38  3]]\n",
      "\n",
      " [[15  9  8 52 43 45 40 43 48]\n",
      "  [50 42 10 25 28  3 26 18 11]\n",
      "  [70 20 59 16 44 25 32 70 59]\n",
      "  [24 22 34 20 19 64 56 35 26]\n",
      "  [67 43 60 68 11 36 55 37 41]\n",
      "  [61 33  2 10 39  7 66 61 31]\n",
      "  [53 25 69 66 51 62 26 49  9]\n",
      "  [22 15 64 45 31 35 39 49 36]]]\n",
      "\n",
      "c\n",
      "[[[[28  5  2 ... 22 15 12]\n",
      "   [12 26 22 ...  9  6 12]\n",
      "   [32 28 18 ... 34 13 21]\n",
      "   [27 11  2 ... 31  7 15]\n",
      "   [16 22 24 ... 11 32  5]]\n",
      "\n",
      "  [[ 6 32 33 ... 17 14 14]\n",
      "   [ 6 31 25 ... 13 17  6]\n",
      "   [27 11 29 ... 23 19 27]\n",
      "   [ 4 23 31 ... 10 28 15]\n",
      "   [ 7  1  3 ... 23 19 27]]\n",
      "\n",
      "  [[28  4  7 ... 29  9  5]\n",
      "   [27 14 23 ... 30 21 13]\n",
      "   [ 2 30 22 ... 16  5 26]\n",
      "   [24 27 14 ... 29  5 22]\n",
      "   [30 14  8 ... 26  7 29]]\n",
      "\n",
      "  ...\n",
      "\n",
      "  [[13 27 31 ...  6  3  8]\n",
      "   [14 33 30 ... 33 20 10]\n",
      "   [ 4 21 27 ... 12 31  8]\n",
      "   [ 2 33  4 ... 29 33 12]\n",
      "   [19 25 31 ... 12  5 12]]\n",
      "\n",
      "  [[22 29 26 ... 24 33  2]\n",
      "   [27 30 23 ... 16  9 26]\n",
      "   [24 32 22 ...  7 10  9]\n",
      "   [28 13 24 ... 10 22 12]\n",
      "   [30 14 10 ... 21 26 32]]\n",
      "\n",
      "  [[11  7 21 ... 15 20  7]\n",
      "   [27  5 25 ...  8 16 32]\n",
      "   [21 23 31 ... 19 33 25]\n",
      "   [11 12 21 ... 31 26 31]\n",
      "   [10 26  2 ... 18 20  6]]]\n",
      "\n",
      "\n",
      " [[[20 17  5 ...  6 23  3]\n",
      "   [34  1 29 ... 15  2 25]\n",
      "   [18  5 14 ...  8 25  5]\n",
      "   [34 14 19 ... 15 11 14]\n",
      "   [12  1 11 ...  3 30 24]]\n",
      "\n",
      "  [[23 34 28 ...  7  2 15]\n",
      "   [31 28 15 ... 26 19 16]\n",
      "   [ 4 16 31 ...  6 25  9]\n",
      "   [ 1 29 11 ... 10  6  5]\n",
      "   [ 6 21 31 ...  9 10 24]]\n",
      "\n",
      "  [[27 32 14 ... 27 12  4]\n",
      "   [16  2 33 ... 29 32 24]\n",
      "   [ 1 24 29 ... 18 24 19]\n",
      "   [15 32 23 ...  4 12  1]\n",
      "   [28 22 16 ...  2 27  3]]\n",
      "\n",
      "  ...\n",
      "\n",
      "  [[10  5  6 ... 20 34 10]\n",
      "   [13 18 28 ... 21 13 22]\n",
      "   [ 3 21 34 ... 13 22  6]\n",
      "   [32 31 12 ... 23 33 21]\n",
      "   [ 9 14 24 ... 15 12 24]]\n",
      "\n",
      "  [[33 16  4 ...  4 14  1]\n",
      "   [10 13 30 ...  6 28 13]\n",
      "   [23 14 11 ... 21 34 17]\n",
      "   [20 34 23 ... 10 13 15]\n",
      "   [20  5 34 ... 11 20 19]]\n",
      "\n",
      "  [[17  1  8 ... 18 26 16]\n",
      "   [29 21 10 ... 27  8 29]\n",
      "   [ 2 12  7 ... 31 16  1]\n",
      "   [22 28 28 ...  5 30 11]\n",
      "   [15 22 24 ... 14 33  2]]]\n",
      "\n",
      "\n",
      " [[[24 11 13 ...  6  4 13]\n",
      "   [ 8  5 23 ... 32 30 15]\n",
      "   [18 34 22 ... 26 34 32]\n",
      "   [ 8  2 20 ... 13 21 14]\n",
      "   [ 9  9 19 ... 19 23 13]]\n",
      "\n",
      "  [[31 28 18 ... 33 28  4]\n",
      "   [28 31  3 ... 21 10 12]\n",
      "   [25 24  4 ... 31  1 28]\n",
      "   [16 16 19 ... 32 11  6]\n",
      "   [ 6 25 26 ... 11 21  1]]\n",
      "\n",
      "  [[31  9  3 ... 12 23 23]\n",
      "   [34 29 31 ... 22 33 19]\n",
      "   [ 2 21 21 ... 18 22 13]\n",
      "   [27 28 11 ... 28 22 27]\n",
      "   [24  9 10 ... 27  3  4]]\n",
      "\n",
      "  ...\n",
      "\n",
      "  [[30  7 26 ... 24 17 18]\n",
      "   [ 6 32 27 ... 34 16  5]\n",
      "   [ 7 22 16 ... 18 17 15]\n",
      "   [22  1  5 ... 18 21 18]\n",
      "   [19 15 16 ... 19 28  5]]\n",
      "\n",
      "  [[25 21 20 ...  8 24  6]\n",
      "   [24 33  9 ... 20 27  9]\n",
      "   [27 24 21 ...  4 34 19]\n",
      "   [12 10 24 ... 14  2 15]\n",
      "   [ 4  7 23 ...  8  5  1]]\n",
      "\n",
      "  [[ 8 10 17 ...  9 13  4]\n",
      "   [ 7 24 12 ... 27  3  6]\n",
      "   [12  7 30 ... 18  1 30]\n",
      "   [20 30  6 ... 20 12 20]\n",
      "   [30 10  4 ...  3 11 21]]]\n",
      "\n",
      "\n",
      " ...\n",
      "\n",
      "\n",
      " [[[27 13  5 ...  6 23 16]\n",
      "   [14 23 30 ... 21  8 29]\n",
      "   [ 5 18 12 ...  4 11 26]\n",
      "   [30 19  2 ... 22 13  3]\n",
      "   [25  1 14 ...  5  5 16]]\n",
      "\n",
      "  [[ 6 20 28 ... 14 18 31]\n",
      "   [23  6 34 ... 10 32 22]\n",
      "   [32 20  2 ...  5 32 34]\n",
      "   [13 22  8 ... 17 32 30]\n",
      "   [ 9 33  7 ... 10  3 13]]\n",
      "\n",
      "  [[16 19 29 ... 25 14 23]\n",
      "   [22  1 33 ... 10 18 10]\n",
      "   [34 29 29 ... 26  9 19]\n",
      "   [15 20 24 ... 33 11  7]\n",
      "   [31  1  2 ...  8  7 26]]\n",
      "\n",
      "  ...\n",
      "\n",
      "  [[14  3 25 ... 11 16 31]\n",
      "   [18  3  6 ... 31 27 26]\n",
      "   [20  9  7 ... 32 14 17]\n",
      "   [ 5 30  2 ... 20 27 14]\n",
      "   [ 7 32 23 ... 31  6 27]]\n",
      "\n",
      "  [[ 1 30  2 ...  9  4  9]\n",
      "   [ 9 22 15 ... 11 19 26]\n",
      "   [28 26 28 ... 15 23  2]\n",
      "   [21  3 24 ... 10 34 32]\n",
      "   [18 20  5 ... 32 13 27]]\n",
      "\n",
      "  [[32 25  2 ... 28 29 19]\n",
      "   [10 25 33 ... 26 20 20]\n",
      "   [26 25 24 ...  4 29  1]\n",
      "   [18  9 25 ...  8  9 14]\n",
      "   [19 23  2 ...  7 34 24]]]\n",
      "\n",
      "\n",
      " [[[18 15 30 ... 14 15 34]\n",
      "   [ 1  9  9 ...  5 19 13]\n",
      "   [ 9 29 32 ... 24 28 25]\n",
      "   [ 1 21  5 ... 20 13 14]\n",
      "   [31 14 23 ...  6 17 32]]\n",
      "\n",
      "  [[ 6 32 19 ...  6 22 17]\n",
      "   [27 19  6 ... 29 33 33]\n",
      "   [16 29 21 ... 14  3 26]\n",
      "   [ 4 10 26 ... 23 34 17]\n",
      "   [27 30 13 ... 19 18 17]]\n",
      "\n",
      "  [[25  6  9 ... 21 32 30]\n",
      "   [ 9 31 14 ... 22  2 22]\n",
      "   [24 25 15 ... 29 32  3]\n",
      "   [ 3 34  9 ... 17  4  8]\n",
      "   [ 8 22  2 ... 25  2 33]]\n",
      "\n",
      "  ...\n",
      "\n",
      "  [[27 30  5 ... 16  2 32]\n",
      "   [15  5 20 ... 10  7 13]\n",
      "   [31  8  1 ... 28  8  6]\n",
      "   [13  4  4 ... 33 26 25]\n",
      "   [ 4  5 26 ... 32 30  5]]\n",
      "\n",
      "  [[24  8 25 ... 22 30 17]\n",
      "   [27 25 19 ...  5 33  5]\n",
      "   [19 17  7 ...  8 26 25]\n",
      "   [26 32  2 ... 29 16 17]\n",
      "   [ 4 31 17 ... 28 15 15]]\n",
      "\n",
      "  [[ 7 30 22 ... 24  5 23]\n",
      "   [ 2  3 31 ... 13 14 28]\n",
      "   [32  3 27 ... 14 21  8]\n",
      "   [26 24 14 ... 26  8 14]\n",
      "   [ 1 31 33 ...  1  1 29]]]\n",
      "\n",
      "\n",
      " [[[ 8 10  2 ...  5 27 29]\n",
      "   [34 10 17 ... 18 23  3]\n",
      "   [11  8 17 ... 28  2 28]\n",
      "   [26 20  3 ... 23  7 24]\n",
      "   [29 33  7 ... 22 19 19]]\n",
      "\n",
      "  [[ 9 29 20 ... 13 26 12]\n",
      "   [29 26  1 ...  1 20  1]\n",
      "   [15  6 29 ... 26 20 20]\n",
      "   [14 10  8 ... 34  9 13]\n",
      "   [ 5 32  5 ...  6 13 19]]\n",
      "\n",
      "  [[20 12  6 ... 21  7 27]\n",
      "   [18 29 16 ...  3 18  6]\n",
      "   [30 30  6 ... 17 15  9]\n",
      "   [ 1 32  5 ... 31  7  8]\n",
      "   [ 8 27 27 ...  4 29 31]]\n",
      "\n",
      "  ...\n",
      "\n",
      "  [[14 16 25 ... 15  5 20]\n",
      "   [26 32 30 ...  9 11 20]\n",
      "   [ 8 26  1 ... 21  2 17]\n",
      "   [17 19  4 ... 21 29 25]\n",
      "   [28 27 30 ... 17  3 11]]\n",
      "\n",
      "  [[ 6 16 26 ... 17  2 33]\n",
      "   [ 2 20 26 ... 31 21  9]\n",
      "   [15 13 27 ... 33 12 28]\n",
      "   [ 2 23 20 ... 15 34 15]\n",
      "   [29 14 27 ... 23 16 21]]\n",
      "\n",
      "  [[25 15 27 ... 26  3 13]\n",
      "   [32 18 28 ...  3 33 13]\n",
      "   [24  7  5 ...  8  2 27]\n",
      "   [ 6 32 15 ... 13 20 11]\n",
      "   [30  7  7 ... 16 31  9]]]]\n"
     ]
    }
   ],
   "source": [
    "a = np.random.randint(1,25,(5,5))\n",
    "print(\"a\")\n",
    "print(a)\n",
    "print()\n",
    "b= np.random.randint(1,72,(7,8,9))\n",
    "print(\"b\")\n",
    "print(b)\n",
    "print()\n",
    "c= np.random.randint(1,35,(10,13,5,7))\n",
    "print(\"c\")\n",
    "print(c)"
   ]
  },
  {
   "cell_type": "markdown",
   "metadata": {
    "colab_type": "text",
    "id": "oHdxeAaxuYZE"
   },
   "source": [
    "**Q2. **Addition and substraction \n",
    "\n",
    "Take 3 Matrices A , B, C. All have same dimensions ( 5 x 3). \n",
    "Perform the follwoing operations and print them out.\n",
    "\n",
    "a. A + B +C\n",
    "\n",
    "b. B - C\n",
    "\n",
    "c. C - A\n",
    "\n",
    "d. A+C-B\n",
    "\n",
    "e. A-1\n",
    "\n",
    "f . B + 2"
   ]
  },
  {
   "cell_type": "code",
   "execution_count": 3,
   "metadata": {
    "colab": {},
    "colab_type": "code",
    "id": "YtAesnmnvWj-"
   },
   "outputs": [
    {
     "name": "stdout",
     "output_type": "stream",
     "text": [
      " A + B +C: \n",
      " [[68 77 67]\n",
      " [68 71 74]\n",
      " [67 60 72]\n",
      " [53 64 75]\n",
      " [53 60 57]]\n",
      "\n",
      " B - C: \n",
      " [[ 9 17 12]\n",
      " [ 5 16  9]\n",
      " [15 10 16]\n",
      " [18 11 20]\n",
      " [15 17  7]]\n",
      "\n",
      " C - A: \n",
      " [[-29 -33 -19]\n",
      " [-27 -31 -23]\n",
      " [-40 -26 -26]\n",
      " [-29 -23 -31]\n",
      " [-29 -34 -23]]\n",
      "\n",
      " A+C-B: \n",
      " [[30 25 19]\n",
      " [34 23 28]\n",
      " [29 24 20]\n",
      " [13 22 19]\n",
      " [17 20 25]]\n",
      "\n",
      " A-1: \n",
      " [[38 41 30]\n",
      " [38 38 36]\n",
      " [43 33 35]\n",
      " [30 32 38]\n",
      " [31 36 31]]\n",
      "\n",
      " B + 2: \n",
      " [[21 28 26]\n",
      " [19 26 25]\n",
      " [21 20 28]\n",
      " [22 23 30]\n",
      " [20 22 18]]\n"
     ]
    }
   ],
   "source": [
    "A = np.random.randint(31,45,(5,3))\n",
    "\n",
    "B= np.random.randint(16,30,(5,3))\n",
    "\n",
    "C= np.random.randint(1,15,(5,3))\n",
    "print(\" A + B +C:\",\"\\n\", A + B +C)\n",
    "print()\n",
    "print(\" B - C:\", \"\\n\", B - C)\n",
    "print()\n",
    "print(\" C - A:\", \"\\n\", C - A)\n",
    "print()\n",
    "print(\" A+C-B:\",\"\\n\",  A+C-B)\n",
    "print()\n",
    "print(\" A-1:\",  \"\\n\",A-1)\n",
    "print()\n",
    "print(\" B + 2:\", \"\\n\", B + 2)\n"
   ]
  },
  {
   "cell_type": "markdown",
   "metadata": {
    "colab_type": "text",
    "id": "PhJCsNsfvhCO"
   },
   "source": [
    "**Q 3.** Using the matrices A, B and C from above, and the vector\n",
    "x = [1, 0, 0]\n",
    "\n",
    "Perform the following and print them out:\n",
    "\n",
    "a. A^3\n",
    "\n",
    "b. B^3 * x\n",
    "\n",
    "c. C * x"
   ]
  },
  {
   "cell_type": "code",
   "execution_count": 4,
   "metadata": {},
   "outputs": [],
   "source": [
    "x =np.array([1, 0, 0])"
   ]
  },
  {
   "cell_type": "code",
   "execution_count": 5,
   "metadata": {
    "colab": {},
    "colab_type": "code",
    "id": "VUqdKfaKyWo7",
    "scrolled": true
   },
   "outputs": [
    {
     "data": {
      "text/plain": [
       "array([[59319, 74088, 29791],\n",
       "       [59319, 59319, 50653],\n",
       "       [85184, 39304, 46656],\n",
       "       [29791, 35937, 59319],\n",
       "       [32768, 50653, 32768]], dtype=int32)"
      ]
     },
     "execution_count": 5,
     "metadata": {},
     "output_type": "execute_result"
    }
   ],
   "source": [
    "A**3"
   ]
  },
  {
   "cell_type": "code",
   "execution_count": 6,
   "metadata": {
    "scrolled": true
   },
   "outputs": [
    {
     "data": {
      "text/plain": [
       "array([[6859,    0,    0],\n",
       "       [4913,    0,    0],\n",
       "       [6859,    0,    0],\n",
       "       [8000,    0,    0],\n",
       "       [5832,    0,    0]])"
      ]
     },
     "execution_count": 6,
     "metadata": {},
     "output_type": "execute_result"
    }
   ],
   "source": [
    "(B**3) * x"
   ]
  },
  {
   "cell_type": "code",
   "execution_count": 7,
   "metadata": {},
   "outputs": [
    {
     "data": {
      "text/plain": [
       "array([[10,  0,  0],\n",
       "       [12,  0,  0],\n",
       "       [ 4,  0,  0],\n",
       "       [ 2,  0,  0],\n",
       "       [ 3,  0,  0]])"
      ]
     },
     "execution_count": 7,
     "metadata": {},
     "output_type": "execute_result"
    }
   ],
   "source": [
    "C * x"
   ]
  },
  {
   "cell_type": "markdown",
   "metadata": {
    "colab_type": "text",
    "id": "99h9aIK6x_Xt"
   },
   "source": [
    "**Q4**. Using the matrices A, B and C from above, perform the follwoing and print them out:\n",
    "\n",
    "a. A (Transpose) \n",
    "\n",
    "b. C (Transpose ) + B (Transpose)\n",
    "\n",
    "\n"
   ]
  },
  {
   "cell_type": "code",
   "execution_count": 8,
   "metadata": {
    "colab": {},
    "colab_type": "code",
    "id": "dH5YXZWOy9z8",
    "scrolled": true
   },
   "outputs": [
    {
     "data": {
      "text/plain": [
       "array([[39, 39, 44, 31, 32],\n",
       "       [42, 39, 34, 33, 37],\n",
       "       [31, 37, 36, 39, 32]])"
      ]
     },
     "execution_count": 8,
     "metadata": {},
     "output_type": "execute_result"
    }
   ],
   "source": [
    "A.T"
   ]
  },
  {
   "cell_type": "code",
   "execution_count": 9,
   "metadata": {},
   "outputs": [
    {
     "data": {
      "text/plain": [
       "array([[29, 29, 23, 22, 21],\n",
       "       [35, 32, 26, 31, 23],\n",
       "       [36, 37, 36, 36, 25]])"
      ]
     },
     "execution_count": 9,
     "metadata": {},
     "output_type": "execute_result"
    }
   ],
   "source": [
    "C.T + (B.T)"
   ]
  },
  {
   "cell_type": "markdown",
   "metadata": {
    "colab_type": "text",
    "id": "bpyYTy5fy_Hc"
   },
   "source": [
    "**Q5**. Print out an identity matrix of (5 x 5) using a function"
   ]
  },
  {
   "cell_type": "code",
   "execution_count": 10,
   "metadata": {
    "colab": {},
    "colab_type": "code",
    "id": "kVRbmqoxzeAN"
   },
   "outputs": [
    {
     "name": "stdout",
     "output_type": "stream",
     "text": [
      "[[1 0 0 0 0]\n",
      " [0 1 0 0 0]\n",
      " [0 0 1 0 0]\n",
      " [0 0 0 1 0]\n",
      " [0 0 0 0 1]]\n"
     ]
    }
   ],
   "source": [
    " \n",
    "  # your code here\n",
    "  # it should return/print  an identity matrix of n x n dimension\n",
    "def indetity_matrix(n):\n",
    "    i =0\n",
    "    j = 0\n",
    "    for var in n:\n",
    "        if i == j:\n",
    "            n[i,j]=1\n",
    "            i+=1\n",
    "            j+=1\n",
    "    count = 0\n",
    "    for row in n:\n",
    "        row[count+1:] = 0\n",
    "        count += 1\n",
    "\n",
    "    count = 0\n",
    "    for row in n:\n",
    "        row[:-5+count] = 0\n",
    "        count += 1\n",
    "    print(n)\n",
    "indetity_matrix(np.arange(1,26).reshape(5,5))"
   ]
  },
  {
   "cell_type": "markdown",
   "metadata": {
    "colab_type": "text",
    "id": "XSjaohxVzszy"
   },
   "source": [
    "**Q6**. Take 3 matrices of dimension (3 x 3 ) each. Name them as Mat_A, Mat_B, Mat_C. Perform the following :\n",
    "\n",
    "a. 4 * Mat_A^2 + 12 * Mat_A * Mat_B + 9 * Mat_B^2\n",
    "\n",
    "\n",
    "b. 2 * Mat_A * (2 * Mat_A + 3 * Mat_B) + 3 * (2 * Mat_A + 3 * Mat_B) * Mat_B"
   ]
  },
  {
   "cell_type": "code",
   "execution_count": 11,
   "metadata": {
    "colab": {},
    "colab_type": "code",
    "id": "Ec5GmU-604Gd",
    "scrolled": true
   },
   "outputs": [
    {
     "name": "stdout",
     "output_type": "stream",
     "text": [
      "[[23 25 25]\n",
      " [26 24 24]\n",
      " [23 25 20]]\n",
      "\n",
      "[[17 14 11]\n",
      " [16 17 17]\n",
      " [14 10 17]]\n",
      "\n",
      "[[7 4 7]\n",
      " [4 3 3]\n",
      " [5 4 5]]\n",
      "\n"
     ]
    }
   ],
   "source": [
    "Mat_A = np.random.randint(19,27,(3,3))\n",
    "\n",
    "Mat_B= np.random.randint(10,18,(3,3))\n",
    "\n",
    "Mat_C= np.random.randint(1,9,(3,3))\n",
    "\n",
    "print(Mat_A)\n",
    "print()\n",
    "print(Mat_B)\n",
    "print()\n",
    "print(Mat_C)\n",
    "print()"
   ]
  },
  {
   "cell_type": "code",
   "execution_count": 12,
   "metadata": {},
   "outputs": [
    {
     "data": {
      "text/plain": [
       "array([[ 9409,  8464,  6889],\n",
       "       [10000,  9801,  9801],\n",
       "       [ 7744,  6400,  8281]])"
      ]
     },
     "execution_count": 12,
     "metadata": {},
     "output_type": "execute_result"
    }
   ],
   "source": [
    "#a.\n",
    "4 * Mat_A**2 + 12 * Mat_A * Mat_B + 9 * Mat_B**2"
   ]
  },
  {
   "cell_type": "code",
   "execution_count": 13,
   "metadata": {},
   "outputs": [
    {
     "data": {
      "text/plain": [
       "array([[ 9409,  8464,  6889],\n",
       "       [10000,  9801,  9801],\n",
       "       [ 7744,  6400,  8281]])"
      ]
     },
     "execution_count": 13,
     "metadata": {},
     "output_type": "execute_result"
    }
   ],
   "source": [
    "#b.\n",
    "2 * Mat_A * (2 * Mat_A + 3 * Mat_B) + 3 * (2 * Mat_A + 3 * Mat_B) * Mat_B"
   ]
  },
  {
   "cell_type": "markdown",
   "metadata": {
    "colab_type": "text",
    "id": "j7hVncp7qElP"
   },
   "source": [
    "**Q7**. For any Matrix A write a function to print out is it singular or not?"
   ]
  },
  {
   "cell_type": "code",
   "execution_count": 14,
   "metadata": {
    "colab": {},
    "colab_type": "code",
    "id": "RFa33JwjuSvT"
   },
   "outputs": [
    {
     "name": "stdout",
     "output_type": "stream",
     "text": [
      "It's not a Singular Matrix\n"
     ]
    }
   ],
   "source": [
    "def isSingular(A) :\n",
    "    A_ans= ((A[0,0]* A[1,1])-(A[1,0]*A[0,1]))\n",
    "    if A_ans == 0:\n",
    "        print('It is Singular Matrix ')\n",
    "    else:\n",
    "         print(\"It's not a Singular Matrix\" )\n",
    "isSingular(np.random.randint(1,4,(2,2)))            "
   ]
  },
  {
   "cell_type": "markdown",
   "metadata": {
    "colab_type": "text",
    "id": "ifS64Baf1GEB"
   },
   "source": [
    "**Q8.** Print out the deteminants of A, B, C"
   ]
  },
  {
   "cell_type": "code",
   "execution_count": 15,
   "metadata": {
    "colab": {},
    "colab_type": "code",
    "id": "ViWUTEAm1PEo"
   },
   "outputs": [
    {
     "name": "stdout",
     "output_type": "stream",
     "text": [
      "[[ 9 11]\n",
      " [10  9]]\n",
      "\n",
      "[[5 5]\n",
      " [6 4]]\n",
      "\n",
      "[[2 1]\n",
      " [1 2]]\n",
      "\n"
     ]
    }
   ],
   "source": [
    "A = np.random.randint(9,12,(2,2))\n",
    "print(A)\n",
    "print()\n",
    "B= np.random.randint(4,8,(2,2))\n",
    "print(B)\n",
    "print()\n",
    "C= np.random.randint(1,4,(2,2))\n",
    "print(C)\n",
    "print()"
   ]
  },
  {
   "cell_type": "code",
   "execution_count": 16,
   "metadata": {},
   "outputs": [
    {
     "data": {
      "text/plain": [
       "-29"
      ]
     },
     "execution_count": 16,
     "metadata": {},
     "output_type": "execute_result"
    }
   ],
   "source": [
    "A_ans= ((A[0,0]* A[1,1])-(A[1,0]*A[0,1]))\n",
    "A_ans"
   ]
  },
  {
   "cell_type": "code",
   "execution_count": 17,
   "metadata": {},
   "outputs": [
    {
     "data": {
      "text/plain": [
       "-10"
      ]
     },
     "execution_count": 17,
     "metadata": {},
     "output_type": "execute_result"
    }
   ],
   "source": [
    "B_ans= ((B[0,0]* B[1,1])-(B[1,0]*B[0,1]))\n",
    "B_ans"
   ]
  },
  {
   "cell_type": "code",
   "execution_count": 18,
   "metadata": {},
   "outputs": [
    {
     "data": {
      "text/plain": [
       "3"
      ]
     },
     "execution_count": 18,
     "metadata": {},
     "output_type": "execute_result"
    }
   ],
   "source": [
    "C_ans= ((C[0,0]* C[1,1])-(C[1,0]*C[0,1]))\n",
    "C_ans"
   ]
  },
  {
   "cell_type": "code",
   "execution_count": null,
   "metadata": {},
   "outputs": [],
   "source": []
  }
 ],
 "metadata": {
  "colab": {
   "collapsed_sections": [],
   "name": "Stats_Assignment # 1.ipynb",
   "provenance": []
  },
  "kernelspec": {
   "display_name": "Python 3",
   "language": "python",
   "name": "python3"
  },
  "language_info": {
   "codemirror_mode": {
    "name": "ipython",
    "version": 3
   },
   "file_extension": ".py",
   "mimetype": "text/x-python",
   "name": "python",
   "nbconvert_exporter": "python",
   "pygments_lexer": "ipython3",
   "version": "3.7.3"
  }
 },
 "nbformat": 4,
 "nbformat_minor": 1
}
